{
 "cells": [
  {
   "cell_type": "markdown",
   "id": "6b2ea0b0",
   "metadata": {},
   "source": [
    "Goal :\n",
    "\n",
    "    Understanding the GPU's need in solving problems.\n",
    "To do :\n",
    "\n",
    "    1. Work on Confusion matrix\n",
    "    2. 50 epochs taking too much time on CPU. Use GPU to perform predictions.\n",
    "    3. Save model to joblib/Keras built in save model function."
   ]
  },
  {
   "cell_type": "code",
   "execution_count": 1,
   "id": "840e7410",
   "metadata": {},
   "outputs": [],
   "source": [
    "import tensorflow as tf\n",
    "from tensorflow import keras\n",
    "import matplotlib.pyplot as plt\n",
    "import numpy as np"
   ]
  },
  {
   "cell_type": "raw",
   "id": "24f68976",
   "metadata": {},
   "source": [
    "# Creating an object from dataset to load as joblib file\n",
    "cifar_ds= tf.keras.datasets.cifar10.load_data()"
   ]
  },
  {
   "cell_type": "raw",
   "id": "c589b39c",
   "metadata": {},
   "source": [
    "# To create a joblib file from the existing dataset\n",
    "from joblib import dump, load\n",
    "dump (cifar_ds,\"cifar_dataset.joblib\")"
   ]
  },
  {
   "cell_type": "code",
   "execution_count": 2,
   "id": "6e3655b4",
   "metadata": {},
   "outputs": [],
   "source": [
    "from joblib import dump, load         # Importing dataset created using joblib\n",
    "dataset = load (\"cifar_dataset.joblib\")"
   ]
  },
  {
   "cell_type": "code",
   "execution_count": 3,
   "id": "72d3940c",
   "metadata": {
    "scrolled": true
   },
   "outputs": [
    {
     "data": {
      "text/plain": [
       "tuple"
      ]
     },
     "execution_count": 3,
     "metadata": {},
     "output_type": "execute_result"
    }
   ],
   "source": [
    "type(dataset)"
   ]
  },
  {
   "cell_type": "code",
   "execution_count": 4,
   "id": "d0ea484b",
   "metadata": {},
   "outputs": [],
   "source": [
    "(X_train, y_train) , (X_test, y_test) = dataset"
   ]
  },
  {
   "cell_type": "code",
   "execution_count": 5,
   "id": "e982ff54",
   "metadata": {},
   "outputs": [
    {
     "data": {
      "text/plain": [
       "4"
      ]
     },
     "execution_count": 5,
     "metadata": {},
     "output_type": "execute_result"
    }
   ],
   "source": [
    "X_train.ndim"
   ]
  },
  {
   "cell_type": "code",
   "execution_count": 6,
   "id": "67885003",
   "metadata": {},
   "outputs": [
    {
     "data": {
      "text/plain": [
       "(50000, 1)"
      ]
     },
     "execution_count": 6,
     "metadata": {},
     "output_type": "execute_result"
    }
   ],
   "source": [
    "y_train.shape"
   ]
  },
  {
   "cell_type": "code",
   "execution_count": 7,
   "id": "eb332330",
   "metadata": {},
   "outputs": [
    {
     "data": {
      "text/plain": [
       "(10000, 32, 32, 3)"
      ]
     },
     "execution_count": 7,
     "metadata": {},
     "output_type": "execute_result"
    }
   ],
   "source": [
    "X_test.shape"
   ]
  },
  {
   "cell_type": "code",
   "execution_count": 8,
   "id": "fd384e00",
   "metadata": {},
   "outputs": [
    {
     "data": {
      "text/plain": [
       "(10000, 1)"
      ]
     },
     "execution_count": 8,
     "metadata": {},
     "output_type": "execute_result"
    }
   ],
   "source": [
    "y_test.shape"
   ]
  },
  {
   "cell_type": "code",
   "execution_count": 9,
   "id": "0922d85f",
   "metadata": {},
   "outputs": [],
   "source": [
    "def plot_sample(index):\n",
    "    plt.figure (figsize = (10,1))\n",
    "    plt.imshow (X_train[index])"
   ]
  },
  {
   "cell_type": "code",
   "execution_count": 10,
   "id": "b72b17a4",
   "metadata": {},
   "outputs": [
    {
     "data": {
      "image/png": "[encoded data removed]",
      "text/plain": [
       "<Figure size 720x72 with 1 Axes>"
      ]
     },
     "metadata": {
      "needs_background": "light"
     },
     "output_type": "display_data"
    }
   ],
   "source": [
    "plot_sample(9)"
   ]
  },
  {
   "cell_type": "code",
   "execution_count": 11,
   "id": "63c17f01",
   "metadata": {},
   "outputs": [
    {
     "data": {
      "text/plain": [
       "array([3], dtype=uint8)"
      ]
     },
     "execution_count": 11,
     "metadata": {},
     "output_type": "execute_result"
    }
   ],
   "source": [
    "y_train[9]"
   ]
  },
  {
   "cell_type": "code",
   "execution_count": 12,
   "id": "4c36ba97",
   "metadata": {},
   "outputs": [
    {
     "data": {
      "text/plain": [
       "3"
      ]
     },
     "execution_count": 12,
     "metadata": {},
     "output_type": "execute_result"
    }
   ],
   "source": [
    "y_train[9][0]"
   ]
  },
  {
   "cell_type": "code",
   "execution_count": 13,
   "id": "dbdc1988",
   "metadata": {},
   "outputs": [],
   "source": [
    "classes = [\"airplane\",'automobile',\"bird\",\"cat\",\"deer\",\"dog\",\"frog\",\"horse\",\"ship\",\"truck\"]"
   ]
  },
  {
   "cell_type": "code",
   "execution_count": 14,
   "id": "06ec9195",
   "metadata": {},
   "outputs": [
    {
     "data": {
      "text/plain": [
       "'cat'"
      ]
     },
     "execution_count": 14,
     "metadata": {},
     "output_type": "execute_result"
    }
   ],
   "source": [
    "classes[y_train[9][0]]"
   ]
  },
  {
   "cell_type": "code",
   "execution_count": 15,
   "id": "f3bdaa58",
   "metadata": {},
   "outputs": [],
   "source": [
    "def train_class_type(num):\n",
    "    classes = [\"airplane\",'automobile',\"bird\",\"cat\",\"deer\",\"dog\",\"frog\",\"horse\",\"ship\",\"truck\"]\n",
    "    return classes[y_train[num][0]]"
   ]
  },
  {
   "cell_type": "code",
   "execution_count": 16,
   "id": "47cd3b2b",
   "metadata": {},
   "outputs": [
    {
     "data": {
      "text/plain": [
       "'cat'"
      ]
     },
     "execution_count": 16,
     "metadata": {},
     "output_type": "execute_result"
    }
   ],
   "source": [
    "train_class_type(9)"
   ]
  },
  {
   "cell_type": "markdown",
   "id": "0109e027",
   "metadata": {},
   "source": [
    "__Scaling the pixels in range 0-1__"
   ]
  },
  {
   "cell_type": "code",
   "execution_count": 17,
   "id": "209bc9bb",
   "metadata": {},
   "outputs": [
    {
     "data": {
      "text/plain": [
       "255"
      ]
     },
     "execution_count": 17,
     "metadata": {},
     "output_type": "execute_result"
    }
   ],
   "source": [
    "X_train.max()"
   ]
  },
  {
   "cell_type": "code",
   "execution_count": 18,
   "id": "b1031b5a",
   "metadata": {},
   "outputs": [
    {
     "data": {
      "text/plain": [
       "0"
      ]
     },
     "execution_count": 18,
     "metadata": {},
     "output_type": "execute_result"
    }
   ],
   "source": [
    "X_train.min()"
   ]
  },
  {
   "cell_type": "code",
   "execution_count": 19,
   "id": "d9d0af5f",
   "metadata": {},
   "outputs": [
    {
     "data": {
      "text/plain": [
       "(50000, 32, 32, 3)"
      ]
     },
     "execution_count": 19,
     "metadata": {},
     "output_type": "execute_result"
    }
   ],
   "source": [
    "X_train.shape"
   ]
  },
  {
   "cell_type": "code",
   "execution_count": 20,
   "id": "fcc39c6f",
   "metadata": {},
   "outputs": [
    {
     "data": {
      "text/plain": [
       "array([[ 59,  62,  63],\n",
       "       [ 43,  46,  45],\n",
       "       [ 50,  48,  43],\n",
       "       [ 68,  54,  42],\n",
       "       [ 98,  73,  52],\n",
       "       [119,  91,  63],\n",
       "       [139, 107,  75],\n",
       "       [145, 110,  80],\n",
       "       [149, 117,  89],\n",
       "       [149, 120,  93],\n",
       "       [131, 103,  77],\n",
       "       [125,  99,  76],\n",
       "       [142, 115,  91],\n",
       "       [144, 112,  86],\n",
       "       [137, 105,  79],\n",
       "       [129,  97,  71],\n",
       "       [137, 106,  79],\n",
       "       [134, 106,  76],\n",
       "       [124,  97,  64],\n",
       "       [139, 113,  78],\n",
       "       [139, 112,  75],\n",
       "       [133, 105,  69],\n",
       "       [136, 105,  74],\n",
       "       [139, 108,  77],\n",
       "       [152, 120,  89],\n",
       "       [163, 131, 100],\n",
       "       [168, 136, 108],\n",
       "       [159, 129, 102],\n",
       "       [158, 130, 104],\n",
       "       [158, 132, 108],\n",
       "       [152, 125, 102],\n",
       "       [148, 124, 103]], dtype=uint8)"
      ]
     },
     "execution_count": 20,
     "metadata": {},
     "output_type": "execute_result"
    }
   ],
   "source": [
    "X_train[0][0] # Represents a single sample with 32x32 pixels and each pixel containing 3 colors(RGB)"
   ]
  },
  {
   "cell_type": "code",
   "execution_count": 21,
   "id": "d688f820",
   "metadata": {},
   "outputs": [],
   "source": [
    "X_train_scaled = X_train/255\n",
    "X_test_scaled = X_test/255"
   ]
  },
  {
   "cell_type": "code",
   "execution_count": 22,
   "id": "71abfd72",
   "metadata": {},
   "outputs": [
    {
     "data": {
      "text/plain": [
       "array([[[[0.23137255, 0.24313725, 0.24705882],\n",
       "         [0.16862745, 0.18039216, 0.17647059],\n",
       "         [0.19607843, 0.18823529, 0.16862745],\n",
       "         ...,\n",
       "         [0.61960784, 0.51764706, 0.42352941],\n",
       "         [0.59607843, 0.49019608, 0.4       ],\n",
       "         [0.58039216, 0.48627451, 0.40392157]],\n",
       "\n",
       "        [[0.0627451 , 0.07843137, 0.07843137],\n",
       "         [0.        , 0.        , 0.        ],\n",
       "         [0.07058824, 0.03137255, 0.        ],\n",
       "         ...,\n",
       "         [0.48235294, 0.34509804, 0.21568627],\n",
       "         [0.46666667, 0.3254902 , 0.19607843],\n",
       "         [0.47843137, 0.34117647, 0.22352941]],\n",
       "\n",
       "        [[0.09803922, 0.09411765, 0.08235294],\n",
       "         [0.0627451 , 0.02745098, 0.        ],\n",
       "         [0.19215686, 0.10588235, 0.03137255],\n",
       "         ...,\n",
       "         [0.4627451 , 0.32941176, 0.19607843],\n",
       "         [0.47058824, 0.32941176, 0.19607843],\n",
       "         [0.42745098, 0.28627451, 0.16470588]],\n",
       "\n",
       "        ...,\n",
       "\n",
       "        [[0.81568627, 0.66666667, 0.37647059],\n",
       "         [0.78823529, 0.6       , 0.13333333],\n",
       "         [0.77647059, 0.63137255, 0.10196078],\n",
       "         ...,\n",
       "         [0.62745098, 0.52156863, 0.2745098 ],\n",
       "         [0.21960784, 0.12156863, 0.02745098],\n",
       "         [0.20784314, 0.13333333, 0.07843137]],\n",
       "\n",
       "        [[0.70588235, 0.54509804, 0.37647059],\n",
       "         [0.67843137, 0.48235294, 0.16470588],\n",
       "         [0.72941176, 0.56470588, 0.11764706],\n",
       "         ...,\n",
       "         [0.72156863, 0.58039216, 0.36862745],\n",
       "         [0.38039216, 0.24313725, 0.13333333],\n",
       "         [0.3254902 , 0.20784314, 0.13333333]],\n",
       "\n",
       "        [[0.69411765, 0.56470588, 0.45490196],\n",
       "         [0.65882353, 0.50588235, 0.36862745],\n",
       "         [0.70196078, 0.55686275, 0.34117647],\n",
       "         ...,\n",
       "         [0.84705882, 0.72156863, 0.54901961],\n",
       "         [0.59215686, 0.4627451 , 0.32941176],\n",
       "         [0.48235294, 0.36078431, 0.28235294]]],\n",
       "\n",
       "\n",
       "       [[[0.60392157, 0.69411765, 0.73333333],\n",
       "         [0.49411765, 0.5372549 , 0.53333333],\n",
       "         [0.41176471, 0.40784314, 0.37254902],\n",
       "         ...,\n",
       "         [0.35686275, 0.37254902, 0.27843137],\n",
       "         [0.34117647, 0.35294118, 0.27843137],\n",
       "         [0.30980392, 0.31764706, 0.2745098 ]],\n",
       "\n",
       "        [[0.54901961, 0.62745098, 0.6627451 ],\n",
       "         [0.56862745, 0.6       , 0.60392157],\n",
       "         [0.49019608, 0.49019608, 0.4627451 ],\n",
       "         ...,\n",
       "         [0.37647059, 0.38823529, 0.30588235],\n",
       "         [0.30196078, 0.31372549, 0.24313725],\n",
       "         [0.27843137, 0.28627451, 0.23921569]],\n",
       "\n",
       "        [[0.54901961, 0.60784314, 0.64313725],\n",
       "         [0.54509804, 0.57254902, 0.58431373],\n",
       "         [0.45098039, 0.45098039, 0.43921569],\n",
       "         ...,\n",
       "         [0.30980392, 0.32156863, 0.25098039],\n",
       "         [0.26666667, 0.2745098 , 0.21568627],\n",
       "         [0.2627451 , 0.27058824, 0.21568627]],\n",
       "\n",
       "        ...,\n",
       "\n",
       "        [[0.68627451, 0.65490196, 0.65098039],\n",
       "         [0.61176471, 0.60392157, 0.62745098],\n",
       "         [0.60392157, 0.62745098, 0.66666667],\n",
       "         ...,\n",
       "         [0.16470588, 0.13333333, 0.14117647],\n",
       "         [0.23921569, 0.20784314, 0.22352941],\n",
       "         [0.36470588, 0.3254902 , 0.35686275]],\n",
       "\n",
       "        [[0.64705882, 0.60392157, 0.50196078],\n",
       "         [0.61176471, 0.59607843, 0.50980392],\n",
       "         [0.62352941, 0.63137255, 0.55686275],\n",
       "         ...,\n",
       "         [0.40392157, 0.36470588, 0.37647059],\n",
       "         [0.48235294, 0.44705882, 0.47058824],\n",
       "         [0.51372549, 0.4745098 , 0.51372549]],\n",
       "\n",
       "        [[0.63921569, 0.58039216, 0.47058824],\n",
       "         [0.61960784, 0.58039216, 0.47843137],\n",
       "         [0.63921569, 0.61176471, 0.52156863],\n",
       "         ...,\n",
       "         [0.56078431, 0.52156863, 0.54509804],\n",
       "         [0.56078431, 0.5254902 , 0.55686275],\n",
       "         [0.56078431, 0.52156863, 0.56470588]]],\n",
       "\n",
       "\n",
       "       [[[1.        , 1.        , 1.        ],\n",
       "         [0.99215686, 0.99215686, 0.99215686],\n",
       "         [0.99215686, 0.99215686, 0.99215686],\n",
       "         ...,\n",
       "         [0.99215686, 0.99215686, 0.99215686],\n",
       "         [0.99215686, 0.99215686, 0.99215686],\n",
       "         [0.99215686, 0.99215686, 0.99215686]],\n",
       "\n",
       "        [[1.        , 1.        , 1.        ],\n",
       "         [1.        , 1.        , 1.        ],\n",
       "         [1.        , 1.        , 1.        ],\n",
       "         ...,\n",
       "         [1.        , 1.        , 1.        ],\n",
       "         [1.        , 1.        , 1.        ],\n",
       "         [1.        , 1.        , 1.        ]],\n",
       "\n",
       "        [[1.        , 1.        , 1.        ],\n",
       "         [0.99607843, 0.99607843, 0.99607843],\n",
       "         [0.99607843, 0.99607843, 0.99607843],\n",
       "         ...,\n",
       "         [0.99607843, 0.99607843, 0.99607843],\n",
       "         [0.99607843, 0.99607843, 0.99607843],\n",
       "         [0.99607843, 0.99607843, 0.99607843]],\n",
       "\n",
       "        ...,\n",
       "\n",
       "        [[0.44313725, 0.47058824, 0.43921569],\n",
       "         [0.43529412, 0.4627451 , 0.43529412],\n",
       "         [0.41176471, 0.43921569, 0.41568627],\n",
       "         ...,\n",
       "         [0.28235294, 0.31764706, 0.31372549],\n",
       "         [0.28235294, 0.31372549, 0.30980392],\n",
       "         [0.28235294, 0.31372549, 0.30980392]],\n",
       "\n",
       "        [[0.43529412, 0.4627451 , 0.43137255],\n",
       "         [0.40784314, 0.43529412, 0.40784314],\n",
       "         [0.38823529, 0.41568627, 0.38431373],\n",
       "         ...,\n",
       "         [0.26666667, 0.29411765, 0.28627451],\n",
       "         [0.2745098 , 0.29803922, 0.29411765],\n",
       "         [0.30588235, 0.32941176, 0.32156863]],\n",
       "\n",
       "        [[0.41568627, 0.44313725, 0.41176471],\n",
       "         [0.38823529, 0.41568627, 0.38431373],\n",
       "         [0.37254902, 0.4       , 0.36862745],\n",
       "         ...,\n",
       "         [0.30588235, 0.33333333, 0.3254902 ],\n",
       "         [0.30980392, 0.33333333, 0.3254902 ],\n",
       "         [0.31372549, 0.3372549 , 0.32941176]]],\n",
       "\n",
       "\n",
       "       ...,\n",
       "\n",
       "\n",
       "       [[[0.1372549 , 0.69803922, 0.92156863],\n",
       "         [0.15686275, 0.69019608, 0.9372549 ],\n",
       "         [0.16470588, 0.69019608, 0.94509804],\n",
       "         ...,\n",
       "         [0.38823529, 0.69411765, 0.85882353],\n",
       "         [0.30980392, 0.57647059, 0.77254902],\n",
       "         [0.34901961, 0.58039216, 0.74117647]],\n",
       "\n",
       "        [[0.22352941, 0.71372549, 0.91764706],\n",
       "         [0.17254902, 0.72156863, 0.98039216],\n",
       "         [0.19607843, 0.71764706, 0.94117647],\n",
       "         ...,\n",
       "         [0.61176471, 0.71372549, 0.78431373],\n",
       "         [0.55294118, 0.69411765, 0.80784314],\n",
       "         [0.45490196, 0.58431373, 0.68627451]],\n",
       "\n",
       "        [[0.38431373, 0.77254902, 0.92941176],\n",
       "         [0.25098039, 0.74117647, 0.98823529],\n",
       "         [0.27058824, 0.75294118, 0.96078431],\n",
       "         ...,\n",
       "         [0.7372549 , 0.76470588, 0.80784314],\n",
       "         [0.46666667, 0.52941176, 0.57647059],\n",
       "         [0.23921569, 0.30980392, 0.35294118]],\n",
       "\n",
       "        ...,\n",
       "\n",
       "        [[0.28627451, 0.30980392, 0.30196078],\n",
       "         [0.20784314, 0.24705882, 0.26666667],\n",
       "         [0.21176471, 0.26666667, 0.31372549],\n",
       "         ...,\n",
       "         [0.06666667, 0.15686275, 0.25098039],\n",
       "         [0.08235294, 0.14117647, 0.2       ],\n",
       "         [0.12941176, 0.18823529, 0.19215686]],\n",
       "\n",
       "        [[0.23921569, 0.26666667, 0.29411765],\n",
       "         [0.21568627, 0.2745098 , 0.3372549 ],\n",
       "         [0.22352941, 0.30980392, 0.40392157],\n",
       "         ...,\n",
       "         [0.09411765, 0.18823529, 0.28235294],\n",
       "         [0.06666667, 0.1372549 , 0.20784314],\n",
       "         [0.02745098, 0.09019608, 0.1254902 ]],\n",
       "\n",
       "        [[0.17254902, 0.21960784, 0.28627451],\n",
       "         [0.18039216, 0.25882353, 0.34509804],\n",
       "         [0.19215686, 0.30196078, 0.41176471],\n",
       "         ...,\n",
       "         [0.10588235, 0.20392157, 0.30196078],\n",
       "         [0.08235294, 0.16862745, 0.25882353],\n",
       "         [0.04705882, 0.12156863, 0.19607843]]],\n",
       "\n",
       "\n",
       "       [[[0.74117647, 0.82745098, 0.94117647],\n",
       "         [0.72941176, 0.81568627, 0.9254902 ],\n",
       "         [0.7254902 , 0.81176471, 0.92156863],\n",
       "         ...,\n",
       "         [0.68627451, 0.76470588, 0.87843137],\n",
       "         [0.6745098 , 0.76078431, 0.87058824],\n",
       "         [0.6627451 , 0.76078431, 0.8627451 ]],\n",
       "\n",
       "        [[0.76078431, 0.82352941, 0.9372549 ],\n",
       "         [0.74901961, 0.81176471, 0.9254902 ],\n",
       "         [0.74509804, 0.80784314, 0.92156863],\n",
       "         ...,\n",
       "         [0.67843137, 0.75294118, 0.8627451 ],\n",
       "         [0.67058824, 0.74901961, 0.85490196],\n",
       "         [0.65490196, 0.74509804, 0.84705882]],\n",
       "\n",
       "        [[0.81568627, 0.85882353, 0.95686275],\n",
       "         [0.80392157, 0.84705882, 0.94117647],\n",
       "         [0.8       , 0.84313725, 0.9372549 ],\n",
       "         ...,\n",
       "         [0.68627451, 0.74901961, 0.85098039],\n",
       "         [0.6745098 , 0.74509804, 0.84705882],\n",
       "         [0.6627451 , 0.74901961, 0.84313725]],\n",
       "\n",
       "        ...,\n",
       "\n",
       "        [[0.81176471, 0.78039216, 0.70980392],\n",
       "         [0.79607843, 0.76470588, 0.68627451],\n",
       "         [0.79607843, 0.76862745, 0.67843137],\n",
       "         ...,\n",
       "         [0.52941176, 0.51764706, 0.49803922],\n",
       "         [0.63529412, 0.61960784, 0.58823529],\n",
       "         [0.65882353, 0.63921569, 0.59215686]],\n",
       "\n",
       "        [[0.77647059, 0.74509804, 0.66666667],\n",
       "         [0.74117647, 0.70980392, 0.62352941],\n",
       "         [0.70588235, 0.6745098 , 0.57647059],\n",
       "         ...,\n",
       "         [0.69803922, 0.67058824, 0.62745098],\n",
       "         [0.68627451, 0.6627451 , 0.61176471],\n",
       "         [0.68627451, 0.6627451 , 0.60392157]],\n",
       "\n",
       "        [[0.77647059, 0.74117647, 0.67843137],\n",
       "         [0.74117647, 0.70980392, 0.63529412],\n",
       "         [0.69803922, 0.66666667, 0.58431373],\n",
       "         ...,\n",
       "         [0.76470588, 0.72156863, 0.6627451 ],\n",
       "         [0.76862745, 0.74117647, 0.67058824],\n",
       "         [0.76470588, 0.74509804, 0.67058824]]],\n",
       "\n",
       "\n",
       "       [[[0.89803922, 0.89803922, 0.9372549 ],\n",
       "         [0.9254902 , 0.92941176, 0.96862745],\n",
       "         [0.91764706, 0.9254902 , 0.96862745],\n",
       "         ...,\n",
       "         [0.85098039, 0.85882353, 0.91372549],\n",
       "         [0.86666667, 0.8745098 , 0.91764706],\n",
       "         [0.87058824, 0.8745098 , 0.91372549]],\n",
       "\n",
       "        [[0.87058824, 0.86666667, 0.89803922],\n",
       "         [0.9372549 , 0.9372549 , 0.97647059],\n",
       "         [0.91372549, 0.91764706, 0.96470588],\n",
       "         ...,\n",
       "         [0.8745098 , 0.8745098 , 0.9254902 ],\n",
       "         [0.89019608, 0.89411765, 0.93333333],\n",
       "         [0.82352941, 0.82745098, 0.8627451 ]],\n",
       "\n",
       "        [[0.83529412, 0.80784314, 0.82745098],\n",
       "         [0.91764706, 0.90980392, 0.9372549 ],\n",
       "         [0.90588235, 0.91372549, 0.95686275],\n",
       "         ...,\n",
       "         [0.8627451 , 0.8627451 , 0.90980392],\n",
       "         [0.8627451 , 0.85882353, 0.90980392],\n",
       "         [0.79215686, 0.79607843, 0.84313725]],\n",
       "\n",
       "        ...,\n",
       "\n",
       "        [[0.58823529, 0.56078431, 0.52941176],\n",
       "         [0.54901961, 0.52941176, 0.49803922],\n",
       "         [0.51764706, 0.49803922, 0.47058824],\n",
       "         ...,\n",
       "         [0.87843137, 0.87058824, 0.85490196],\n",
       "         [0.90196078, 0.89411765, 0.88235294],\n",
       "         [0.94509804, 0.94509804, 0.93333333]],\n",
       "\n",
       "        [[0.5372549 , 0.51764706, 0.49411765],\n",
       "         [0.50980392, 0.49803922, 0.47058824],\n",
       "         [0.49019608, 0.4745098 , 0.45098039],\n",
       "         ...,\n",
       "         [0.70980392, 0.70588235, 0.69803922],\n",
       "         [0.79215686, 0.78823529, 0.77647059],\n",
       "         [0.83137255, 0.82745098, 0.81176471]],\n",
       "\n",
       "        [[0.47843137, 0.46666667, 0.44705882],\n",
       "         [0.4627451 , 0.45490196, 0.43137255],\n",
       "         [0.47058824, 0.45490196, 0.43529412],\n",
       "         ...,\n",
       "         [0.70196078, 0.69411765, 0.67843137],\n",
       "         [0.64313725, 0.64313725, 0.63529412],\n",
       "         [0.63921569, 0.63921569, 0.63137255]]]])"
      ]
     },
     "execution_count": 22,
     "metadata": {},
     "output_type": "execute_result"
    }
   ],
   "source": [
    "X_train_scaled"
   ]
  },
  {
   "cell_type": "markdown",
   "id": "b5b40b1b",
   "metadata": {},
   "source": [
    "__One hot encoding: generating the index array for each category using keras__"
   ]
  },
  {
   "cell_type": "code",
   "execution_count": 23,
   "id": "8c108695",
   "metadata": {},
   "outputs": [
    {
     "data": {
      "text/plain": [
       "array([[6],\n",
       "       [9],\n",
       "       [9],\n",
       "       ...,\n",
       "       [9],\n",
       "       [1],\n",
       "       [1]], dtype=uint8)"
      ]
     },
     "execution_count": 23,
     "metadata": {},
     "output_type": "execute_result"
    }
   ],
   "source": [
    "y_train"
   ]
  },
  {
   "cell_type": "code",
   "execution_count": 24,
   "id": "5d8ece86",
   "metadata": {
    "scrolled": true
   },
   "outputs": [
    {
     "data": {
      "text/plain": [
       "(50000, 1)"
      ]
     },
     "execution_count": 24,
     "metadata": {},
     "output_type": "execute_result"
    }
   ],
   "source": [
    "y_train.shape"
   ]
  },
  {
   "cell_type": "code",
   "execution_count": 25,
   "id": "db3a52db",
   "metadata": {},
   "outputs": [
    {
     "data": {
      "text/plain": [
       "array([[6],\n",
       "       [9],\n",
       "       [9],\n",
       "       [4],\n",
       "       [1]], dtype=uint8)"
      ]
     },
     "execution_count": 25,
     "metadata": {},
     "output_type": "execute_result"
    }
   ],
   "source": [
    "y_train[0:5]"
   ]
  },
  {
   "cell_type": "code",
   "execution_count": 26,
   "id": "690cc6ed",
   "metadata": {},
   "outputs": [
    {
     "data": {
      "text/plain": [
       "array([[0., 0., 0., 0., 0., 0., 1., 0., 0., 0.],\n",
       "       [0., 0., 0., 0., 0., 0., 0., 0., 0., 1.],\n",
       "       [0., 0., 0., 0., 0., 0., 0., 0., 0., 1.],\n",
       "       [0., 0., 0., 0., 1., 0., 0., 0., 0., 0.],\n",
       "       [0., 1., 0., 0., 0., 0., 0., 0., 0., 0.]], dtype=float32)"
      ]
     },
     "execution_count": 26,
     "metadata": {},
     "output_type": "execute_result"
    }
   ],
   "source": [
    "# Generating the index number for each category\n",
    "y_train_categorical = keras.utils.to_categorical(y_train, num_classes= 10, dtype = 'float32')\n",
    "y_train_categorical[0:5]"
   ]
  },
  {
   "cell_type": "code",
   "execution_count": 27,
   "id": "6943eb6c",
   "metadata": {},
   "outputs": [
    {
     "data": {
      "text/plain": [
       "(50000, 10)"
      ]
     },
     "execution_count": 27,
     "metadata": {},
     "output_type": "execute_result"
    }
   ],
   "source": [
    "y_train_categorical.shape \n",
    "# Observe our y_train is a 2d array with rows and columns of 1s and 0s which used to be 1d for any other analysis."
   ]
  },
  {
   "cell_type": "code",
   "execution_count": 28,
   "id": "44bba4e3",
   "metadata": {},
   "outputs": [
    {
     "data": {
      "text/plain": [
       "(10000, 10)"
      ]
     },
     "execution_count": 28,
     "metadata": {},
     "output_type": "execute_result"
    }
   ],
   "source": [
    "y_test_categorical = keras.utils.to_categorical(y_test, num_classes= 10, dtype = 'float32')\n",
    "y_test_categorical[0:5]\n",
    "y_test_categorical.shape"
   ]
  },
  {
   "cell_type": "markdown",
   "id": "3fe71a61",
   "metadata": {},
   "source": [
    "model = keras.Sequential ([\n",
    "    keras.layers.Flatten(input_shape = (32,32,3)),\n",
    "    keras.layers.Dense(3000,activation ='relu'),\n",
    "    keras.layers.Dense(1000, activation = 'relu'),\n",
    "    keras.layers.Dense(10,activation = 'sigmoid')\n",
    "])\n",
    "\n",
    "model.compile (optimizer= 'SGD',\n",
    "              loss = 'categorical_crossentropy',\n",
    "              metrics = ['accuracy'])\n",
    "model.fit (X_train_scaled,y_train_categorical,epochs= 50)"
   ]
  },
  {
   "cell_type": "raw",
   "id": "d9964bc9",
   "metadata": {},
   "source": [
    "# Run this while saving the model using tensorflow.\n",
    "%%timeit -n1 -r1 # To get the time required for computing at the end of epochs.\n",
    "model = keras.Sequential ([\n",
    "keras.layers.Flatten(input_shape = (32,32,3)),\n",
    "keras.layers.Dense(3000,activation ='relu'),\n",
    "keras.layers.Dense(1000, activation = 'relu'),\n",
    "keras.layers.Dense(10,activation = 'sigmoid')\n",
    "])\n",
    "\n",
    "model.compile (optimizer= 'SGD',\n",
    "          loss = 'categorical_crossentropy',\n",
    "          metrics = ['accuracy'])\n",
    "\n",
    "model.fit (X_train_scaled,y_train_categorical,epochs= 10) # Assigning variable does not work       "
   ]
  },
  {
   "cell_type": "raw",
   "id": "bccfa100",
   "metadata": {},
   "source": [
    "output : layers (3000-1000-10) -10 epochs :\n",
    "Epoch 1/10\n",
    "1563/1563 [==============================] - 163s 104ms/step - loss: 1.8099 - accuracy: 0.3543\n",
    "Epoch 2/10\n",
    "1563/1563 [==============================] - 160s 102ms/step - loss: 1.6217 - accuracy: 0.4276\n",
    "Epoch 3/10\n",
    "1563/1563 [==============================] - 157s 100ms/step - loss: 1.5408 - accuracy: 0.4569\n",
    "Epoch 4/10\n",
    "1563/1563 [==============================] - 161s 103ms/step - loss: 1.4810 - accuracy: 0.4783\n",
    "Epoch 5/10\n",
    "1563/1563 [==============================] - 184s 117ms/step - loss: 1.4320 - accuracy: 0.4962\n",
    "Epoch 6/10\n",
    "1563/1563 [==============================] - 183s 117ms/step - loss: 1.3895 - accuracy: 0.5110\n",
    "Epoch 7/10\n",
    "1563/1563 [==============================] - 180s 115ms/step - loss: 1.3522 - accuracy: 0.5265\n",
    "Epoch 8/10\n",
    "1563/1563 [==============================] - 246s 158ms/step - loss: 1.3151 - accuracy: 0.5384\n",
    "Epoch 9/10\n",
    "1563/1563 [==============================] - 169s 108ms/step - loss: 1.2833 - accuracy: 0.5499\n",
    "Epoch 10/10\n",
    "1563/1563 [==============================] - 486s 311ms/step - loss: 1.2514 - accuracy: 0.5624"
   ]
  },
  {
   "cell_type": "raw",
   "id": "91bfbd47",
   "metadata": {},
   "source": [
    "# Run this to run the model directly without saving\n",
    "cpu_model = keras.Sequential ([\n",
    "keras.layers.Flatten(input_shape = (32,32,3)),\n",
    "    keras.layers.Dense(3000,activation ='relu'),\n",
    "keras.layers.Dense(1000, activation = 'relu'),\n",
    "keras.layers.Dense(10,activation = 'sigmoid')\n",
    "])\n",
    "\n",
    "cpu_model.compile (optimizer= 'SGD',\n",
    "          loss = 'categorical_crossentropy',\n",
    "          metrics = ['accuracy'])\n",
    "\n",
    "cpu_model.fit (X_train_scaled,y_train_categorical,epochs= 1) # Assigning variable does not work"
   ]
  },
  {
   "cell_type": "markdown",
   "id": "9f48d32e",
   "metadata": {},
   "source": [
    "__Model created is saved in the form of h5 file extension provided by keras.\n",
    "Joblib/Pickle saves the keras model as a joblib file but while loading it throws an error(File not found)__\n",
    "    \n",
    "    Joblib/Pickle works good with importing datasets / saving custom models etc. For keras they do not work."
   ]
  },
  {
   "cell_type": "code",
   "execution_count": 29,
   "id": "43ce2925",
   "metadata": {},
   "outputs": [],
   "source": [
    "# fitted_model = model.fit (X_train_scaled,y_train_categorical,epochs= 1)\n",
    "# Assigning variable does not work while saving using tensorflow"
   ]
  },
  {
   "cell_type": "code",
   "execution_count": 30,
   "id": "91393219",
   "metadata": {},
   "outputs": [],
   "source": [
    "from keras.models import load_model\n",
    "# model.save('model_10epochs.h5') # Model can be saved without above line\n",
    "# Model can be saved without using the fit function but will build a dumb model. In this case accuracy: 0.0890(epochs reduced to 1)\n",
    "cpu_model = load_model('model_10epochs.h5')"
   ]
  },
  {
   "cell_type": "raw",
   "id": "1c0f351c",
   "metadata": {},
   "source": [
    "for 1 epoch : \n",
    "1563/1563 [==============================] - 207s 132ms/step - loss: 1.8114 - accuracy: 0.3544\n",
    "3min 29s ± 0 ns per loop (mean ± std. dev. of 1 run, 1 loop each)"
   ]
  },
  {
   "cell_type": "code",
   "execution_count": 31,
   "id": "40900a9f",
   "metadata": {},
   "outputs": [
    {
     "name": "stdout",
     "output_type": "stream",
     "text": [
      "313/313 [==============================] - 11s 34ms/step - loss: 1.3508 - accuracy: 0.5235\n"
     ]
    },
    {
     "data": {
      "text/plain": [
       "[1.350826621055603, 0.5235000252723694]"
      ]
     },
     "execution_count": 31,
     "metadata": {},
     "output_type": "execute_result"
    }
   ],
   "source": [
    "cpu_model.evaluate(X_test_scaled,y_test_categorical)"
   ]
  },
  {
   "cell_type": "raw",
   "id": "abab72f5",
   "metadata": {},
   "source": [
    "[1.6962168216705322, 0.41280001401901245]"
   ]
  },
  {
   "cell_type": "raw",
   "id": "7bcac21b",
   "metadata": {},
   "source": [
    "[1.7343542575836182, 0.38929998874664307]"
   ]
  },
  {
   "cell_type": "raw",
   "id": "8e090825",
   "metadata": {},
   "source": [
    "[1.7065858840942383, 0.3982999920845032]"
   ]
  },
  {
   "cell_type": "code",
   "execution_count": 32,
   "id": "63cca4c8",
   "metadata": {},
   "outputs": [
    {
     "name": "stdout",
     "output_type": "stream",
     "text": [
      "313/313 [==============================] - 10s 32ms/step\n"
     ]
    },
    {
     "data": {
      "text/plain": [
       "array([[0.31427488, 0.33676326, 0.857021  , ..., 0.02187737, 0.51710427,\n",
       "        0.07540247],\n",
       "       [0.86716664, 0.898332  , 0.37503985, ..., 0.11805874, 0.9918473 ,\n",
       "        0.9819105 ],\n",
       "       [0.96959376, 0.8015421 , 0.45698354, ..., 0.240228  , 0.98813003,\n",
       "        0.7128731 ],\n",
       "       ...,\n",
       "       [0.05947345, 0.02213915, 0.91189593, ..., 0.44828433, 0.566871  ,\n",
       "        0.08501823],\n",
       "       [0.3223797 , 0.15390258, 0.9090677 , ..., 0.3570501 , 0.11996298,\n",
       "        0.07513203],\n",
       "       [0.53350186, 0.13550387, 0.7290327 , ..., 0.91651183, 0.17969915,\n",
       "        0.29765007]], dtype=float32)"
      ]
     },
     "execution_count": 32,
     "metadata": {},
     "output_type": "execute_result"
    }
   ],
   "source": [
    "# cpu_model = get_model()\n",
    "cpu_model.predict(X_test_scaled)"
   ]
  },
  {
   "cell_type": "code",
   "execution_count": 33,
   "id": "44071ca2",
   "metadata": {},
   "outputs": [
    {
     "name": "stdout",
     "output_type": "stream",
     "text": [
      "313/313 [==============================] - 10s 32ms/step\n"
     ]
    }
   ],
   "source": [
    "y_predicted = cpu_model.predict(X_test_scaled)"
   ]
  },
  {
   "cell_type": "code",
   "execution_count": 34,
   "id": "3520ef7c",
   "metadata": {},
   "outputs": [
    {
     "data": {
      "text/plain": [
       "array([[0.31427488, 0.33676326, 0.857021  , ..., 0.02187737, 0.51710427,\n",
       "        0.07540247],\n",
       "       [0.86716664, 0.898332  , 0.37503985, ..., 0.11805874, 0.9918473 ,\n",
       "        0.9819105 ],\n",
       "       [0.96959376, 0.8015421 , 0.45698354, ..., 0.240228  , 0.98813003,\n",
       "        0.7128731 ],\n",
       "       ...,\n",
       "       [0.05947345, 0.02213915, 0.91189593, ..., 0.44828433, 0.566871  ,\n",
       "        0.08501823],\n",
       "       [0.3223797 , 0.15390258, 0.9090677 , ..., 0.3570501 , 0.11996298,\n",
       "        0.07513203],\n",
       "       [0.53350186, 0.13550387, 0.7290327 , ..., 0.91651183, 0.17969915,\n",
       "        0.29765007]], dtype=float32)"
      ]
     },
     "execution_count": 34,
     "metadata": {},
     "output_type": "execute_result"
    }
   ],
   "source": [
    "y_predicted"
   ]
  },
  {
   "cell_type": "markdown",
   "id": "44e2aa4f",
   "metadata": {},
   "source": [
    "__Predicting the 0th row__"
   ]
  },
  {
   "cell_type": "code",
   "execution_count": 35,
   "id": "a6f5a36e",
   "metadata": {
    "scrolled": true
   },
   "outputs": [
    {
     "name": "stdout",
     "output_type": "stream",
     "text": [
      "313/313 [==============================] - 10s 33ms/step\n"
     ]
    },
    {
     "data": {
      "text/plain": [
       "array([0.31427488, 0.33676326, 0.857021  , 0.9532763 , 0.67637044,\n",
       "       0.85188437, 0.78496325, 0.02187737, 0.51710427, 0.07540247],\n",
       "      dtype=float32)"
      ]
     },
     "execution_count": 35,
     "metadata": {},
     "output_type": "execute_result"
    }
   ],
   "source": [
    "cpu_model.predict(X_test_scaled)[0]"
   ]
  },
  {
   "cell_type": "code",
   "execution_count": 36,
   "id": "aff63ff1",
   "metadata": {},
   "outputs": [
    {
     "name": "stdout",
     "output_type": "stream",
     "text": [
      "313/313 [==============================] - 10s 33ms/step\n"
     ]
    },
    {
     "data": {
      "text/plain": [
       "3"
      ]
     },
     "execution_count": 36,
     "metadata": {},
     "output_type": "execute_result"
    }
   ],
   "source": [
    "np.argmax(cpu_model.predict(X_test_scaled)[0])"
   ]
  },
  {
   "cell_type": "code",
   "execution_count": 37,
   "id": "8be74c6b",
   "metadata": {},
   "outputs": [
    {
     "name": "stdout",
     "output_type": "stream",
     "text": [
      "313/313 [==============================] - 10s 32ms/step\n"
     ]
    },
    {
     "data": {
      "text/plain": [
       "'cat'"
      ]
     },
     "execution_count": 37,
     "metadata": {},
     "output_type": "execute_result"
    }
   ],
   "source": [
    "classes[np.argmax(cpu_model.predict(X_test_scaled)[0])]"
   ]
  },
  {
   "cell_type": "code",
   "execution_count": 38,
   "id": "a2f55cc5",
   "metadata": {},
   "outputs": [
    {
     "data": {
      "text/plain": [
       "array([3], dtype=uint8)"
      ]
     },
     "execution_count": 38,
     "metadata": {},
     "output_type": "execute_result"
    }
   ],
   "source": [
    "y_test[0]"
   ]
  },
  {
   "cell_type": "code",
   "execution_count": 39,
   "id": "3d18ec5c",
   "metadata": {},
   "outputs": [
    {
     "data": {
      "text/plain": [
       "'cat'"
      ]
     },
     "execution_count": 39,
     "metadata": {},
     "output_type": "execute_result"
    }
   ],
   "source": [
    "classes[y_test[0][0]]"
   ]
  },
  {
   "cell_type": "markdown",
   "id": "22115e38",
   "metadata": {},
   "source": [
    "__Predicting the 1th row__"
   ]
  },
  {
   "cell_type": "code",
   "execution_count": 40,
   "id": "a83b0755",
   "metadata": {},
   "outputs": [
    {
     "name": "stdout",
     "output_type": "stream",
     "text": [
      "313/313 [==============================] - 10s 33ms/step\n"
     ]
    },
    {
     "data": {
      "text/plain": [
       "array([0.86716664, 0.898332  , 0.37503985, 0.14053851, 0.2908798 ,\n",
       "       0.05342802, 0.02697578, 0.11805874, 0.9918473 , 0.9819105 ],\n",
       "      dtype=float32)"
      ]
     },
     "execution_count": 40,
     "metadata": {},
     "output_type": "execute_result"
    }
   ],
   "source": [
    "cpu_model.predict(X_test_scaled)[1]"
   ]
  },
  {
   "cell_type": "code",
   "execution_count": 41,
   "id": "ec7ace9d",
   "metadata": {},
   "outputs": [
    {
     "name": "stdout",
     "output_type": "stream",
     "text": [
      "313/313 [==============================] - 10s 31ms/step\n"
     ]
    },
    {
     "data": {
      "text/plain": [
       "8"
      ]
     },
     "execution_count": 41,
     "metadata": {},
     "output_type": "execute_result"
    }
   ],
   "source": [
    "np.argmax(cpu_model.predict(X_test_scaled)[1])"
   ]
  },
  {
   "cell_type": "code",
   "execution_count": 42,
   "id": "a3999290",
   "metadata": {},
   "outputs": [
    {
     "name": "stdout",
     "output_type": "stream",
     "text": [
      "313/313 [==============================] - 10s 30ms/step\n"
     ]
    },
    {
     "data": {
      "text/plain": [
       "'ship'"
      ]
     },
     "execution_count": 42,
     "metadata": {},
     "output_type": "execute_result"
    }
   ],
   "source": [
    "classes[np.argmax(cpu_model.predict(X_test_scaled)[1])]"
   ]
  },
  {
   "cell_type": "code",
   "execution_count": 43,
   "id": "8e342537",
   "metadata": {},
   "outputs": [
    {
     "data": {
      "text/plain": [
       "array([8], dtype=uint8)"
      ]
     },
     "execution_count": 43,
     "metadata": {},
     "output_type": "execute_result"
    }
   ],
   "source": [
    "y_test[1]"
   ]
  },
  {
   "cell_type": "code",
   "execution_count": 44,
   "id": "7c2dc9cd",
   "metadata": {},
   "outputs": [
    {
     "data": {
      "text/plain": [
       "'ship'"
      ]
     },
     "execution_count": 44,
     "metadata": {},
     "output_type": "execute_result"
    }
   ],
   "source": [
    "classes[y_test[1][0]]"
   ]
  },
  {
   "cell_type": "markdown",
   "id": "5bef2df1",
   "metadata": {},
   "source": [
    "__Predicting the 2th row__"
   ]
  },
  {
   "cell_type": "code",
   "execution_count": 45,
   "id": "1c11e3bd",
   "metadata": {},
   "outputs": [
    {
     "name": "stdout",
     "output_type": "stream",
     "text": [
      "313/313 [==============================] - 11s 35ms/step\n"
     ]
    },
    {
     "data": {
      "text/plain": [
       "'ship'"
      ]
     },
     "execution_count": 45,
     "metadata": {},
     "output_type": "execute_result"
    }
   ],
   "source": [
    "classes[np.argmax(cpu_model.predict(X_test_scaled)[2])]"
   ]
  },
  {
   "cell_type": "code",
   "execution_count": 46,
   "id": "07375930",
   "metadata": {},
   "outputs": [
    {
     "data": {
      "text/plain": [
       "'ship'"
      ]
     },
     "execution_count": 46,
     "metadata": {},
     "output_type": "execute_result"
    }
   ],
   "source": [
    "classes[y_test[2][0]]"
   ]
  },
  {
   "cell_type": "markdown",
   "id": "6eec5b1c",
   "metadata": {},
   "source": [
    "__Using Confusion matrix__"
   ]
  },
  {
   "cell_type": "code",
   "execution_count": 47,
   "id": "6723ae6c",
   "metadata": {},
   "outputs": [],
   "source": [
    "y_predicted_labels= [np.argmax(i) for i in y_predicted]"
   ]
  },
  {
   "cell_type": "code",
   "execution_count": 48,
   "id": "1df2bca0",
   "metadata": {},
   "outputs": [
    {
     "data": {
      "text/plain": [
       "[3, 8, 8, 8, 4, 6, 3, 6, 2, 1]"
      ]
     },
     "execution_count": 48,
     "metadata": {},
     "output_type": "execute_result"
    }
   ],
   "source": [
    "y_predicted_labels[:10] # Observe that it is a list"
   ]
  },
  {
   "cell_type": "raw",
   "id": "da913eae",
   "metadata": {},
   "source": [
    "[3, 9, 8, 8, 4, 6, 3, 6, 2, 1]"
   ]
  },
  {
   "cell_type": "raw",
   "id": "3902a65e",
   "metadata": {},
   "source": [
    "[6, 1, 8, 8, 4, 6, 3, 6, 2, 1]"
   ]
  },
  {
   "cell_type": "raw",
   "id": "a84c65cb",
   "metadata": {},
   "source": [
    "[3, 9, 8, 8, 4, 6, 3, 4, 2, 1]"
   ]
  },
  {
   "cell_type": "raw",
   "id": "ec613732",
   "metadata": {},
   "source": [
    "[3, 8, 8, 0, 6, 6, 1, 6, 3, 1], dtype=uint8) # Actual y_test values"
   ]
  },
  {
   "cell_type": "code",
   "execution_count": 49,
   "id": "424f847e",
   "metadata": {},
   "outputs": [
    {
     "data": {
      "text/plain": [
       "2"
      ]
     },
     "execution_count": 49,
     "metadata": {},
     "output_type": "execute_result"
    }
   ],
   "source": [
    "y_test.ndim #It is a two dimensional array. We want a 1d array so reshaping in next cells."
   ]
  },
  {
   "cell_type": "code",
   "execution_count": 50,
   "id": "36f392b6",
   "metadata": {},
   "outputs": [],
   "source": [
    "y_test_reshaped = y_test.reshape(10000,)"
   ]
  },
  {
   "cell_type": "code",
   "execution_count": 51,
   "id": "ab92c52c",
   "metadata": {},
   "outputs": [
    {
     "data": {
      "text/plain": [
       "(10000,)"
      ]
     },
     "execution_count": 51,
     "metadata": {},
     "output_type": "execute_result"
    }
   ],
   "source": [
    "y_test_reshaped.shape"
   ]
  },
  {
   "cell_type": "code",
   "execution_count": 52,
   "id": "47c590ed",
   "metadata": {},
   "outputs": [
    {
     "data": {
      "text/plain": [
       "array([3, 8, 8, 0, 6, 6, 1, 6, 3, 1], dtype=uint8)"
      ]
     },
     "execution_count": 52,
     "metadata": {},
     "output_type": "execute_result"
    }
   ],
   "source": [
    "y_test_reshaped[:10]"
   ]
  },
  {
   "cell_type": "raw",
   "id": "20626d2e",
   "metadata": {},
   "source": [
    "array([3, 8, 8, 0, 6, 6, 1, 6, 3, 1], dtype=uint8)"
   ]
  },
  {
   "cell_type": "code",
   "execution_count": 53,
   "id": "50d6ef4f",
   "metadata": {},
   "outputs": [],
   "source": [
    "cm= tf.math.confusion_matrix(y_test_reshaped,y_predicted_labels)"
   ]
  },
  {
   "cell_type": "code",
   "execution_count": 54,
   "id": "3a81214d",
   "metadata": {},
   "outputs": [
    {
     "data": {
      "text/plain": [
       "TensorShape([10, 10])"
      ]
     },
     "execution_count": 54,
     "metadata": {},
     "output_type": "execute_result"
    }
   ],
   "source": [
    "cm.shape"
   ]
  },
  {
   "cell_type": "code",
   "execution_count": 55,
   "id": "855d1092",
   "metadata": {},
   "outputs": [
    {
     "data": {
      "text/plain": [
       "<tf.Tensor: shape=(10, 10), dtype=int32, numpy=\n",
       "array([[514,  16, 149,  17,  31,  16,  21,  29, 159,  48],\n",
       "       [ 39, 503,  25,  27,  15,  17,  18,  32, 116, 208],\n",
       "       [ 46,   9, 512,  74, 122,  54,  88,  58,  22,  15],\n",
       "       [ 22,   7, 143, 381,  67, 129, 134,  51,  23,  43],\n",
       "       [ 28,   4, 204,  58, 459,  30, 104,  70,  33,  10],\n",
       "       [ 10,   4, 149, 231,  77, 348,  76,  57,  22,  26],\n",
       "       [  2,  10, 100,  71, 113,  30, 624,  14,  16,  20],\n",
       "       [ 26,  10,  84,  75,  89,  67,  31, 562,  16,  40],\n",
       "       [ 81,  31,  40,  23,  28,  13,   9,  14, 711,  50],\n",
       "       [ 47,  91,  15,  34,  18,  23,  17,  42,  92, 621]])>"
      ]
     },
     "execution_count": 55,
     "metadata": {},
     "output_type": "execute_result"
    }
   ],
   "source": [
    "cm"
   ]
  },
  {
   "cell_type": "raw",
   "id": "5d9a3024",
   "metadata": {},
   "source": [
    "array([[376,  51,  92,  12,   8,   8,  45,  85, 281,  42],\n",
    "       [ 34, 526,  18,  38,   6,  31,  75,  50, 114, 108],\n",
    "       [ 85,  37, 303,  59,  69,  47, 228,  93,  67,  12],\n",
    "       [ 22,  57,  96, 222,  21, 156, 212, 120,  47,  47],\n",
    "       [ 45,  33, 174,  30, 219,  25, 277, 132,  52,  13],\n",
    "       [ 10,  28, 110, 152,  34, 256, 184, 140,  71,  15],\n",
    "       [  4,  30,  78,  47,  46,  37, 658,  58,  22,  20],\n",
    "       [ 25,  49,  68,  46,  60,  40,  97, 514,  49,  52],\n",
    "       [ 70,  90,  25,  19,   5,  24,  25,  38, 636,  68],\n",
    "       [ 36, 206,  10,  35,   6,  17,  64,  77, 131, 418]])>"
   ]
  },
  {
   "cell_type": "code",
   "execution_count": 56,
   "id": "fee9f8ac",
   "metadata": {},
   "outputs": [
    {
     "data": {
      "text/plain": [
       "Text(69.0, 0.5, 'True')"
      ]
     },
     "execution_count": 56,
     "metadata": {},
     "output_type": "execute_result"
    },
    {
     "data": {
      "image/png": "[encoded data removed]",
      "text/plain": [
       "<Figure size 720x504 with 2 Axes>"
      ]
     },
     "metadata": {
      "needs_background": "light"
     },
     "output_type": "display_data"
    }
   ],
   "source": [
    "import seaborn as sn\n",
    "plt.figure (figsize =(10,7))\n",
    "sn.heatmap(cm, annot = True,fmt = \"d\" )\n",
    "plt.xlabel(\"Predicted\")\n",
    "plt.ylabel(\"True\")"
   ]
  },
  {
   "cell_type": "code",
   "execution_count": 57,
   "id": "96ddc24b",
   "metadata": {},
   "outputs": [
    {
     "name": "stdout",
     "output_type": "stream",
     "text": [
      "              precision    recall  f1-score   support\n",
      "\n",
      "           0       0.63      0.51      0.57      1000\n",
      "           1       0.73      0.50      0.60      1000\n",
      "           2       0.36      0.51      0.42      1000\n",
      "           3       0.38      0.38      0.38      1000\n",
      "           4       0.45      0.46      0.45      1000\n",
      "           5       0.48      0.35      0.40      1000\n",
      "           6       0.56      0.62      0.59      1000\n",
      "           7       0.60      0.56      0.58      1000\n",
      "           8       0.59      0.71      0.64      1000\n",
      "           9       0.57      0.62      0.60      1000\n",
      "\n",
      "    accuracy                           0.52     10000\n",
      "   macro avg       0.54      0.52      0.52     10000\n",
      "weighted avg       0.54      0.52      0.52     10000\n",
      "\n"
     ]
    }
   ],
   "source": [
    "from sklearn.metrics import confusion_matrix, classification_report\n",
    "# print (classification_report(y_test,y_pred_classes))  ## Without reshaping y_test is 2d array\n",
    "print (classification_report(y_test_reshaped,y_predicted_labels)) ## After reshaping y_test is 1d array"
   ]
  },
  {
   "cell_type": "raw",
   "id": "df7bcbfb",
   "metadata": {},
   "source": [
    "\n",
    "              precision    recall  f1-score   support\n",
    "\n",
    "           0       0.53      0.38      0.44      1000\n",
    "           1       0.48      0.53      0.50      1000\n",
    "           2       0.31      0.30      0.31      1000\n",
    "           3       0.34      0.22      0.27      1000\n",
    "           4       0.46      0.22      0.30      1000\n",
    "           5       0.40      0.26      0.31      1000\n",
    "           6       0.35      0.66      0.46      1000\n",
    "           7       0.39      0.51      0.45      1000\n",
    "           8       0.43      0.64      0.51      1000\n",
    "           9       0.53      0.42      0.47      1000\n",
    "\n",
    "    accuracy                           0.41     10000\n",
    "   macro avg       0.42      0.41      0.40     10000\n",
    "weighted avg       0.42      0.41      0.40     10000"
   ]
  }
 ],
 "metadata": {
  "kernelspec": {
   "display_name": "Python 3 (ipykernel)",
   "language": "python",
   "name": "python3"
  },
  "language_info": {
   "codemirror_mode": {
    "name": "ipython",
    "version": 3
   },
   "file_extension": ".py",
   "mimetype": "text/x-python",
   "name": "python",
   "nbconvert_exporter": "python",
   "pygments_lexer": "ipython3",
   "version": "3.9.12"
  }
 },
 "nbformat": 4,
 "nbformat_minor": 5
}

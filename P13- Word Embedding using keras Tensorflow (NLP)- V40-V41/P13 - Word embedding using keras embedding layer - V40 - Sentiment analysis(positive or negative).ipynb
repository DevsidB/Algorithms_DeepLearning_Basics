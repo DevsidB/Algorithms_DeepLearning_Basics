{
 "cells": [
  {
   "cell_type": "markdown",
   "id": "8bf61829",
   "metadata": {},
   "source": [
    "Goal:\n",
    "   \n",
    "       Sentiment analysis using Word Embeddings(NLP)"
   ]
  },
  {
   "cell_type": "code",
   "execution_count": 1,
   "id": "abd0c7cd",
   "metadata": {},
   "outputs": [],
   "source": [
    "import numpy as np\n",
    "from tensorflow.keras.preprocessing.text import one_hot\n",
    "from tensorflow.keras.preprocessing.sequence import pad_sequences\n",
    "from tensorflow.keras.models import Sequential\n",
    "from tensorflow.keras.layers import Dense\n",
    "from tensorflow.keras.layers import Flatten\n",
    "from tensorflow.keras.layers import Embedding"
   ]
  },
  {
   "cell_type": "code",
   "execution_count": 44,
   "id": "07b09c80",
   "metadata": {},
   "outputs": [],
   "source": [
    "reviews = ['nice food',\n",
    "        'amazing restaurant',\n",
    "        'too good',\n",
    "        'just loved it!',\n",
    "        'will go again',\n",
    "        'horrible food',\n",
    "        'never go there',\n",
    "        'poor service',\n",
    "        'poor quality',\n",
    "        'needs improvement']\n",
    "\n",
    "sentiment = np.array([1,1,1,1,1,0,0,0,0,0])"
   ]
  },
  {
   "cell_type": "code",
   "execution_count": 45,
   "id": "7b51e758",
   "metadata": {},
   "outputs": [
    {
     "data": {
      "text/plain": [
       "[23, 27]"
      ]
     },
     "execution_count": 45,
     "metadata": {},
     "output_type": "execute_result"
    }
   ],
   "source": [
    "one_hot(\"amazing restaurant\",50)"
   ]
  },
  {
   "cell_type": "code",
   "execution_count": 46,
   "id": "dcd9b138",
   "metadata": {},
   "outputs": [
    {
     "data": {
      "text/plain": [
       "[[22, 35],\n",
       " [23, 27],\n",
       " [27, 32],\n",
       " [13, 33, 21],\n",
       " [6, 1, 3],\n",
       " [9, 35],\n",
       " [45, 1, 24],\n",
       " [30, 10],\n",
       " [30, 10],\n",
       " [26, 8]]"
      ]
     },
     "execution_count": 46,
     "metadata": {},
     "output_type": "execute_result"
    }
   ],
   "source": [
    "vocab_size = 50\n",
    "encoded_reviews = [one_hot(d, vocab_size) for d in reviews]\n",
    "encoded_reviews"
   ]
  },
  {
   "cell_type": "code",
   "execution_count": 64,
   "id": "35dce0d5",
   "metadata": {},
   "outputs": [
    {
     "data": {
      "text/plain": [
       "list"
      ]
     },
     "execution_count": 64,
     "metadata": {},
     "output_type": "execute_result"
    }
   ],
   "source": [
    "type(encoded_reviews)"
   ]
  },
  {
   "cell_type": "code",
   "execution_count": 47,
   "id": "ecaf7610",
   "metadata": {},
   "outputs": [
    {
     "data": {
      "text/plain": [
       "array([[22, 35,  0],\n",
       "       [23, 27,  0],\n",
       "       [27, 32,  0],\n",
       "       [13, 33, 21],\n",
       "       [ 6,  1,  3],\n",
       "       [ 9, 35,  0],\n",
       "       [45,  1, 24],\n",
       "       [30, 10,  0],\n",
       "       [30, 10,  0],\n",
       "       [26,  8,  0]])"
      ]
     },
     "execution_count": 47,
     "metadata": {},
     "output_type": "execute_result"
    }
   ],
   "source": [
    "max_length = 3\n",
    "padded_reviews = pad_sequences(encoded_reviews, maxlen=max_length, padding='post')\n",
    "padded_reviews"
   ]
  },
  {
   "cell_type": "code",
   "execution_count": 48,
   "id": "5eb3ec70",
   "metadata": {},
   "outputs": [],
   "source": [
    "embeded_vector_size = 4\n",
    "\n",
    "model = Sequential()\n",
    "model.add(Embedding(vocab_size, embeded_vector_size, input_length=max_length,name=\"embedding\"))\n",
    "model.add(Flatten())\n",
    "model.add(Dense(1, activation='sigmoid'))"
   ]
  },
  {
   "cell_type": "code",
   "execution_count": 49,
   "id": "903c2763",
   "metadata": {},
   "outputs": [],
   "source": [
    "X = padded_reviews\n",
    "y = sentiment"
   ]
  },
  {
   "cell_type": "code",
   "execution_count": 50,
   "id": "8eecf567",
   "metadata": {},
   "outputs": [
    {
     "name": "stdout",
     "output_type": "stream",
     "text": [
      "Model: \"sequential_1\"\n",
      "_________________________________________________________________\n",
      " Layer (type)                Output Shape              Param #   \n",
      "=================================================================\n",
      " embedding (Embedding)       (None, 3, 4)              200       \n",
      "                                                                 \n",
      " flatten_1 (Flatten)         (None, 12)                0         \n",
      "                                                                 \n",
      " dense_1 (Dense)             (None, 1)                 13        \n",
      "                                                                 \n",
      "=================================================================\n",
      "Total params: 213\n",
      "Trainable params: 213\n",
      "Non-trainable params: 0\n",
      "_________________________________________________________________\n",
      "None\n"
     ]
    }
   ],
   "source": [
    "model.compile(optimizer='adam', loss='binary_crossentropy', metrics=['accuracy'])\n",
    "print(model.summary())"
   ]
  },
  {
   "cell_type": "code",
   "execution_count": 51,
   "id": "c84ca81a",
   "metadata": {},
   "outputs": [
    {
     "data": {
      "text/plain": [
       "<keras.callbacks.History at 0x19c0bcd7c0>"
      ]
     },
     "execution_count": 51,
     "metadata": {},
     "output_type": "execute_result"
    }
   ],
   "source": [
    "model.fit(X, y, epochs=50, verbose=0)"
   ]
  },
  {
   "cell_type": "code",
   "execution_count": 52,
   "id": "59ad108b",
   "metadata": {},
   "outputs": [
    {
     "name": "stdout",
     "output_type": "stream",
     "text": [
      "1/1 [==============================] - 0s 207ms/step - loss: 0.6003 - accuracy: 1.0000\n"
     ]
    },
    {
     "data": {
      "text/plain": [
       "1.0"
      ]
     },
     "execution_count": 52,
     "metadata": {},
     "output_type": "execute_result"
    }
   ],
   "source": [
    "loss, accuracy = model.evaluate(X, y)\n",
    "accuracy"
   ]
  },
  {
   "cell_type": "code",
   "execution_count": 53,
   "id": "afcbf180",
   "metadata": {},
   "outputs": [
    {
     "data": {
      "text/plain": [
       "list"
      ]
     },
     "execution_count": 53,
     "metadata": {},
     "output_type": "execute_result"
    }
   ],
   "source": [
    "type(model.get_layer('embedding').get_weights())"
   ]
  },
  {
   "cell_type": "code",
   "execution_count": 54,
   "id": "9eb7c3ac",
   "metadata": {},
   "outputs": [
    {
     "data": {
      "text/plain": [
       "(1, 50, 4)"
      ]
     },
     "execution_count": 54,
     "metadata": {},
     "output_type": "execute_result"
    }
   ],
   "source": [
    "np.array(model.get_layer('embedding').get_weights()).shape"
   ]
  },
  {
   "cell_type": "code",
   "execution_count": 55,
   "id": "b76ca221",
   "metadata": {},
   "outputs": [
    {
     "data": {
      "text/plain": [
       "array([[ 0.05750809, -0.08601989, -0.06215804, -0.02940659],\n",
       "       [-0.04669215,  0.0526131 ,  0.04993277, -0.0421348 ],\n",
       "       [ 0.02788388,  0.0299553 ,  0.04287738,  0.04261598],\n",
       "       [-0.07036729,  0.08083656,  0.09264696,  0.09312554],\n",
       "       [ 0.0278531 , -0.01034777, -0.04786097,  0.00501406],\n",
       "       [-0.00173866, -0.04172125,  0.0170066 , -0.04757843],\n",
       "       [-0.06298792, -0.0974207 ,  0.04998935,  0.06096543],\n",
       "       [ 0.04595676,  0.04795501, -0.01052473, -0.02482252],\n",
       "       [-0.02778705,  0.05935884,  0.08915491, -0.09955373],\n",
       "       [ 0.07021528,  0.03185086, -0.09363673, -0.07562404],\n",
       "       [-0.07603268,  0.02664629,  0.07536297, -0.05354173],\n",
       "       [-0.00979913,  0.03940902,  0.02615892, -0.0076283 ],\n",
       "       [ 0.00392939, -0.0024395 ,  0.04042039, -0.00437214],\n",
       "       [-0.00509736, -0.01012597,  0.08308792,  0.08503109],\n",
       "       [ 0.02042777,  0.00886322,  0.03454895, -0.01975518],\n",
       "       [-0.04359242, -0.02528897, -0.01802852, -0.04233532],\n",
       "       [ 0.00116355,  0.0078708 , -0.02854918,  0.01032567],\n",
       "       [ 0.01292547, -0.01073422,  0.01923492,  0.04230305],\n",
       "       [ 0.02798915,  0.00437714, -0.01330411,  0.00603229],\n",
       "       [ 0.01134061, -0.04918047, -0.03293282,  0.01885765],\n",
       "       [ 0.01410319, -0.0184926 ,  0.03689878, -0.01842306],\n",
       "       [-0.02566202,  0.0694468 ,  0.00515871,  0.09501591],\n",
       "       [-0.05174732, -0.01611019,  0.01998992,  0.0210312 ],\n",
       "       [-0.02319253, -0.04479342,  0.04342768,  0.07396878],\n",
       "       [ 0.03410771, -0.0015714 , -0.03012984, -0.06489648],\n",
       "       [ 0.0096206 ,  0.04319154, -0.01008369,  0.03087055],\n",
       "       [ 0.07449336,  0.07972118, -0.04196142, -0.09690101],\n",
       "       [ 0.09714202, -0.01196134,  0.05684662,  0.08936494],\n",
       "       [ 0.03813454, -0.0434867 , -0.04025342,  0.03536296],\n",
       "       [-0.01493622,  0.03454237, -0.02835475,  0.03117558],\n",
       "       [ 0.04061928,  0.02662341, -0.03536345, -0.02328017],\n",
       "       [ 0.00195283, -0.01277509,  0.03825532, -0.02322947],\n",
       "       [ 0.01156714, -0.10033015, -0.04832137,  0.07599977],\n",
       "       [ 0.09887632, -0.0703105 , -0.04600339,  0.08315153],\n",
       "       [ 0.01134954, -0.04221566,  0.02342924,  0.04514379],\n",
       "       [ 0.03883581, -0.06171758, -0.0467652 ,  0.00766122],\n",
       "       [-0.04038556, -0.02286471,  0.00516127,  0.0438914 ],\n",
       "       [ 0.01741718,  0.01696677,  0.00102708, -0.01124306],\n",
       "       [-0.02809621,  0.0058967 , -0.00737302, -0.0303795 ],\n",
       "       [ 0.02407552,  0.00562829, -0.00840733,  0.01472071],\n",
       "       [ 0.03513539, -0.03504486,  0.01875793,  0.00329602],\n",
       "       [-0.04686992, -0.01704568, -0.03381287,  0.00055049],\n",
       "       [-0.04159658,  0.0388858 , -0.01424872, -0.02470942],\n",
       "       [-0.04476862, -0.02352865, -0.03024019,  0.0004636 ],\n",
       "       [ 0.01918366,  0.04722531,  0.00780461, -0.00359173],\n",
       "       [ 0.01307728,  0.09196739, -0.07093202, -0.07577432],\n",
       "       [-0.0319754 , -0.04178857,  0.00522465, -0.04605812],\n",
       "       [ 0.01957853,  0.03242077, -0.01284386,  0.04079529],\n",
       "       [ 0.04361303,  0.01818419,  0.04246588, -0.04903616],\n",
       "       [-0.0373859 , -0.01001922,  0.01752741, -0.04716785]],\n",
       "      dtype=float32)"
      ]
     },
     "execution_count": 55,
     "metadata": {},
     "output_type": "execute_result"
    }
   ],
   "source": [
    "weights = model.get_layer('embedding').get_weights()[0] # 0 is to get the first index from list\n",
    "weights"
   ]
  },
  {
   "cell_type": "code",
   "execution_count": 56,
   "id": "3c4daf30",
   "metadata": {},
   "outputs": [
    {
     "data": {
      "text/plain": [
       "(50, 4)"
      ]
     },
     "execution_count": 56,
     "metadata": {},
     "output_type": "execute_result"
    }
   ],
   "source": [
    "model.get_layer('embedding').get_weights()[0].shape"
   ]
  },
  {
   "cell_type": "code",
   "execution_count": 57,
   "id": "8efa8ca2",
   "metadata": {},
   "outputs": [
    {
     "data": {
      "text/plain": [
       "50"
      ]
     },
     "execution_count": 57,
     "metadata": {},
     "output_type": "execute_result"
    }
   ],
   "source": [
    "len(model.get_layer('embedding').get_weights()[0])"
   ]
  },
  {
   "cell_type": "code",
   "execution_count": 58,
   "id": "bafab956",
   "metadata": {},
   "outputs": [
    {
     "data": {
      "text/plain": [
       "array([ 0.00392939, -0.0024395 ,  0.04042039, -0.00437214], dtype=float32)"
      ]
     },
     "execution_count": 58,
     "metadata": {},
     "output_type": "execute_result"
    }
   ],
   "source": [
    "weights[12]"
   ]
  },
  {
   "cell_type": "code",
   "execution_count": 59,
   "id": "9436cea1",
   "metadata": {},
   "outputs": [
    {
     "data": {
      "text/plain": [
       "array([-0.02778705,  0.05935884,  0.08915491, -0.09955373], dtype=float32)"
      ]
     },
     "execution_count": 59,
     "metadata": {},
     "output_type": "execute_result"
    }
   ],
   "source": [
    "weights[8]"
   ]
  },
  {
   "cell_type": "code",
   "execution_count": 67,
   "id": "9f47d5b0",
   "metadata": {},
   "outputs": [
    {
     "data": {
      "text/plain": [
       "array([ 0.01156714, -0.10033015, -0.04832137,  0.07599977], dtype=float32)"
      ]
     },
     "execution_count": 67,
     "metadata": {},
     "output_type": "execute_result"
    }
   ],
   "source": [
    "weights[32]"
   ]
  },
  {
   "cell_type": "code",
   "execution_count": 68,
   "id": "1e98ddf6",
   "metadata": {},
   "outputs": [
    {
     "data": {
      "text/plain": [
       "array([ 0.03883581, -0.06171758, -0.0467652 ,  0.00766122], dtype=float32)"
      ]
     },
     "execution_count": 68,
     "metadata": {},
     "output_type": "execute_result"
    }
   ],
   "source": [
    "weights[35]"
   ]
  },
  {
   "cell_type": "code",
   "execution_count": 61,
   "id": "f7c8589c",
   "metadata": {},
   "outputs": [
    {
     "name": "stdout",
     "output_type": "stream",
     "text": [
      "1/1 [==============================] - 0s 35ms/step\n"
     ]
    }
   ],
   "source": [
    "pred = model.predict(X)"
   ]
  },
  {
   "cell_type": "code",
   "execution_count": 62,
   "id": "3a46ea43",
   "metadata": {},
   "outputs": [
    {
     "data": {
      "text/plain": [
       "array([[0.5199531 ],\n",
       "       [0.5311593 ],\n",
       "       [0.51955265],\n",
       "       [0.5920669 ],\n",
       "       [0.5609397 ],\n",
       "       [0.47734442],\n",
       "       [0.44076723],\n",
       "       [0.44409952],\n",
       "       [0.44409952],\n",
       "       [0.42588934]], dtype=float32)"
      ]
     },
     "execution_count": 62,
     "metadata": {},
     "output_type": "execute_result"
    }
   ],
   "source": [
    "pred"
   ]
  },
  {
   "cell_type": "code",
   "execution_count": 63,
   "id": "4b4424a0",
   "metadata": {},
   "outputs": [
    {
     "data": {
      "text/plain": [
       "[1, 1, 1, 1, 1, 0, 0, 0, 0, 0]"
      ]
     },
     "execution_count": 63,
     "metadata": {},
     "output_type": "execute_result"
    }
   ],
   "source": [
    "pred_list= []\n",
    "for i in pred:\n",
    "    if (i > 0.50):\n",
    "        pred_list.append(1)\n",
    "    else:\n",
    "        pred_list.append(0)\n",
    "pred_list    "
   ]
  },
  {
   "cell_type": "code",
   "execution_count": 74,
   "id": "bd10049e",
   "metadata": {},
   "outputs": [
    {
     "name": "stdout",
     "output_type": "stream",
     "text": [
      "1/1 [==============================] - 0s 49ms/step\n"
     ]
    },
    {
     "data": {
      "text/plain": [
       "array([[0.5387879]], dtype=float32)"
      ]
     },
     "execution_count": 74,
     "metadata": {},
     "output_type": "execute_result"
    }
   ],
   "source": [
    "X_test1 = [23,9,35] # amazing,horrible, food\n",
    "model.predict(X_test1) # Positive "
   ]
  },
  {
   "cell_type": "code",
   "execution_count": 75,
   "id": "dbd0230e",
   "metadata": {},
   "outputs": [
    {
     "name": "stdout",
     "output_type": "stream",
     "text": [
      "1/1 [==============================] - 0s 50ms/step\n"
     ]
    },
    {
     "data": {
      "text/plain": [
       "array([[0.51802367]], dtype=float32)"
      ]
     },
     "execution_count": 75,
     "metadata": {},
     "output_type": "execute_result"
    }
   ],
   "source": [
    "X_test2 = [33,22,27] #loved,nice restaurant\n",
    "model.predict(X_test2) # Positive"
   ]
  },
  {
   "cell_type": "code",
   "execution_count": 76,
   "id": "90546691",
   "metadata": {},
   "outputs": [
    {
     "name": "stdout",
     "output_type": "stream",
     "text": [
      "1/1 [==============================] - 0s 51ms/step\n"
     ]
    },
    {
     "data": {
      "text/plain": [
       "array([[0.44842425]], dtype=float32)"
      ]
     },
     "execution_count": 76,
     "metadata": {},
     "output_type": "execute_result"
    }
   ],
   "source": [
    "X_test3 = [24,10,26] # there,quality,needs\n",
    "model.predict(X_test3) # Negative"
   ]
  },
  {
   "cell_type": "code",
   "execution_count": null,
   "id": "b8ce15f3",
   "metadata": {},
   "outputs": [],
   "source": []
  }
 ],
 "metadata": {
  "kernelspec": {
   "display_name": "Python 3 (ipykernel)",
   "language": "python",
   "name": "python3"
  },
  "language_info": {
   "codemirror_mode": {
    "name": "ipython",
    "version": 3
   },
   "file_extension": ".py",
   "mimetype": "text/x-python",
   "name": "python",
   "nbconvert_exporter": "python",
   "pygments_lexer": "ipython3",
   "version": "3.9.12"
  }
 },
 "nbformat": 4,
 "nbformat_minor": 5
}
